{
  "cells": [
    {
      "cell_type": "markdown",
      "source": [],
      "metadata": {
        "id": "Jinj8e09OghD"
      }
    },
    {
      "cell_type": "markdown",
      "source": [],
      "metadata": {
        "id": "RoABL8GBOqQp"
      }
    },
    {
      "cell_type": "markdown",
      "metadata": {
        "id": "16rsJ22JOB66"
      },
      "source": [
        "# LLM Finetuning using AutoTrain Advanced\n",
        "\n",
        "In this notebook, we will finetune a llama-3.2-1b-instruct model using AutoTrain Advanced.\n",
        "You can replace the model with any Hugging Face transformers compatible model and dataset with any other dataset in proper formatting.\n",
        "For dataset formatting, please take a look at [docs](https://huggingface.co/docs/autotrain/index)."
      ]
    },
    {
      "source": [
        "!pip install autotrain-advanced\n",
        "from autotrain.params import LLMTrainingParams\n",
        "from autotrain.project import AutoTrainProject"
      ],
      "cell_type": "code",
      "metadata": {
        "colab": {
          "base_uri": "https://localhost:8080/"
        },
        "id": "wQPpjujwPhFb",
        "outputId": "ec7532a5-575b-44ff-f428-34c01fc2bb68"
      },
      "execution_count": 1,
      "outputs": [
        {
          "output_type": "stream",
          "name": "stdout",
          "text": [
            "Requirement already satisfied: autotrain-advanced in /usr/local/lib/python3.11/dist-packages (0.8.36)\n",
            "Requirement already satisfied: albumentations==1.4.23 in /usr/local/lib/python3.11/dist-packages (from autotrain-advanced) (1.4.23)\n",
            "Requirement already satisfied: datasets~=3.2.0 in /usr/local/lib/python3.11/dist-packages (from datasets[vision]~=3.2.0->autotrain-advanced) (3.2.0)\n",
            "Requirement already satisfied: evaluate==0.4.3 in /usr/local/lib/python3.11/dist-packages (from autotrain-advanced) (0.4.3)\n",
            "Requirement already satisfied: ipadic==1.0.0 in /usr/local/lib/python3.11/dist-packages (from autotrain-advanced) (1.0.0)\n",
            "Requirement already satisfied: jiwer==3.0.5 in /usr/local/lib/python3.11/dist-packages (from autotrain-advanced) (3.0.5)\n",
            "Requirement already satisfied: joblib==1.4.2 in /usr/local/lib/python3.11/dist-packages (from autotrain-advanced) (1.4.2)\n",
            "Requirement already satisfied: loguru==0.7.3 in /usr/local/lib/python3.11/dist-packages (from autotrain-advanced) (0.7.3)\n",
            "Requirement already satisfied: pandas==2.2.3 in /usr/local/lib/python3.11/dist-packages (from autotrain-advanced) (2.2.3)\n",
            "Requirement already satisfied: nltk==3.9.1 in /usr/local/lib/python3.11/dist-packages (from autotrain-advanced) (3.9.1)\n",
            "Requirement already satisfied: optuna==4.1.0 in /usr/local/lib/python3.11/dist-packages (from autotrain-advanced) (4.1.0)\n",
            "Requirement already satisfied: Pillow==11.0.0 in /usr/local/lib/python3.11/dist-packages (from autotrain-advanced) (11.0.0)\n",
            "Requirement already satisfied: sacremoses==0.1.1 in /usr/local/lib/python3.11/dist-packages (from autotrain-advanced) (0.1.1)\n",
            "Requirement already satisfied: scikit-learn==1.6.0 in /usr/local/lib/python3.11/dist-packages (from autotrain-advanced) (1.6.0)\n",
            "Requirement already satisfied: sentencepiece==0.2.0 in /usr/local/lib/python3.11/dist-packages (from autotrain-advanced) (0.2.0)\n",
            "Requirement already satisfied: tqdm==4.67.1 in /usr/local/lib/python3.11/dist-packages (from autotrain-advanced) (4.67.1)\n",
            "Requirement already satisfied: werkzeug==3.1.3 in /usr/local/lib/python3.11/dist-packages (from autotrain-advanced) (3.1.3)\n",
            "Requirement already satisfied: xgboost==2.1.3 in /usr/local/lib/python3.11/dist-packages (from autotrain-advanced) (2.1.3)\n",
            "Requirement already satisfied: huggingface-hub==0.27.0 in /usr/local/lib/python3.11/dist-packages (from autotrain-advanced) (0.27.0)\n",
            "Requirement already satisfied: requests==2.32.3 in /usr/local/lib/python3.11/dist-packages (from autotrain-advanced) (2.32.3)\n",
            "Requirement already satisfied: einops==0.8.0 in /usr/local/lib/python3.11/dist-packages (from autotrain-advanced) (0.8.0)\n",
            "Requirement already satisfied: packaging==24.2 in /usr/local/lib/python3.11/dist-packages (from autotrain-advanced) (24.2)\n",
            "Requirement already satisfied: cryptography==44.0.0 in /usr/local/lib/python3.11/dist-packages (from autotrain-advanced) (44.0.0)\n",
            "Requirement already satisfied: nvitop==1.3.2 in /usr/local/lib/python3.11/dist-packages (from autotrain-advanced) (1.3.2)\n",
            "Requirement already satisfied: tensorboard==2.18.0 in /usr/local/lib/python3.11/dist-packages (from autotrain-advanced) (2.18.0)\n",
            "Requirement already satisfied: peft==0.14.0 in /usr/local/lib/python3.11/dist-packages (from autotrain-advanced) (0.14.0)\n",
            "Requirement already satisfied: trl==0.13.0 in /usr/local/lib/python3.11/dist-packages (from autotrain-advanced) (0.13.0)\n",
            "Requirement already satisfied: tiktoken==0.8.0 in /usr/local/lib/python3.11/dist-packages (from autotrain-advanced) (0.8.0)\n",
            "Requirement already satisfied: transformers==4.48.0 in /usr/local/lib/python3.11/dist-packages (from autotrain-advanced) (4.48.0)\n",
            "Requirement already satisfied: accelerate==1.2.1 in /usr/local/lib/python3.11/dist-packages (from autotrain-advanced) (1.2.1)\n",
            "Requirement already satisfied: rouge-score==0.1.2 in /usr/local/lib/python3.11/dist-packages (from autotrain-advanced) (0.1.2)\n",
            "Requirement already satisfied: py7zr==0.22.0 in /usr/local/lib/python3.11/dist-packages (from autotrain-advanced) (0.22.0)\n",
            "Requirement already satisfied: fastapi==0.115.6 in /usr/local/lib/python3.11/dist-packages (from autotrain-advanced) (0.115.6)\n",
            "Requirement already satisfied: uvicorn==0.34.0 in /usr/local/lib/python3.11/dist-packages (from autotrain-advanced) (0.34.0)\n",
            "Requirement already satisfied: python-multipart==0.0.20 in /usr/local/lib/python3.11/dist-packages (from autotrain-advanced) (0.0.20)\n",
            "Requirement already satisfied: pydantic==2.10.4 in /usr/local/lib/python3.11/dist-packages (from autotrain-advanced) (2.10.4)\n",
            "Requirement already satisfied: hf-transfer in /usr/local/lib/python3.11/dist-packages (from autotrain-advanced) (0.1.9)\n",
            "Requirement already satisfied: pyngrok==7.2.1 in /usr/local/lib/python3.11/dist-packages (from autotrain-advanced) (7.2.1)\n",
            "Requirement already satisfied: authlib==1.4.0 in /usr/local/lib/python3.11/dist-packages (from autotrain-advanced) (1.4.0)\n",
            "Requirement already satisfied: itsdangerous==2.2.0 in /usr/local/lib/python3.11/dist-packages (from autotrain-advanced) (2.2.0)\n",
            "Requirement already satisfied: seqeval==1.2.2 in /usr/local/lib/python3.11/dist-packages (from autotrain-advanced) (1.2.2)\n",
            "Requirement already satisfied: httpx==0.28.1 in /usr/local/lib/python3.11/dist-packages (from autotrain-advanced) (0.28.1)\n",
            "Requirement already satisfied: pyyaml==6.0.2 in /usr/local/lib/python3.11/dist-packages (from autotrain-advanced) (6.0.2)\n",
            "Requirement already satisfied: timm==1.0.12 in /usr/local/lib/python3.11/dist-packages (from autotrain-advanced) (1.0.12)\n",
            "Requirement already satisfied: torchmetrics==1.6.0 in /usr/local/lib/python3.11/dist-packages (from autotrain-advanced) (1.6.0)\n",
            "Requirement already satisfied: pycocotools==2.0.8 in /usr/local/lib/python3.11/dist-packages (from autotrain-advanced) (2.0.8)\n",
            "Requirement already satisfied: sentence-transformers==3.3.1 in /usr/local/lib/python3.11/dist-packages (from autotrain-advanced) (3.3.1)\n",
            "Requirement already satisfied: bitsandbytes==0.45.0 in /usr/local/lib/python3.11/dist-packages (from autotrain-advanced) (0.45.0)\n",
            "Requirement already satisfied: numpy<3.0.0,>=1.17 in /usr/local/lib/python3.11/dist-packages (from accelerate==1.2.1->autotrain-advanced) (2.0.2)\n",
            "Requirement already satisfied: psutil in /usr/local/lib/python3.11/dist-packages (from accelerate==1.2.1->autotrain-advanced) (5.9.5)\n",
            "Requirement already satisfied: torch>=1.10.0 in /usr/local/lib/python3.11/dist-packages (from accelerate==1.2.1->autotrain-advanced) (2.6.0+cu124)\n",
            "Requirement already satisfied: safetensors>=0.4.3 in /usr/local/lib/python3.11/dist-packages (from accelerate==1.2.1->autotrain-advanced) (0.5.3)\n",
            "Requirement already satisfied: scipy>=1.10.0 in /usr/local/lib/python3.11/dist-packages (from albumentations==1.4.23->autotrain-advanced) (1.15.3)\n",
            "Requirement already satisfied: albucore==0.0.21 in /usr/local/lib/python3.11/dist-packages (from albumentations==1.4.23->autotrain-advanced) (0.0.21)\n",
            "Requirement already satisfied: eval-type-backport in /usr/local/lib/python3.11/dist-packages (from albumentations==1.4.23->autotrain-advanced) (0.2.2)\n",
            "Requirement already satisfied: opencv-python-headless>=4.9.0.80 in /usr/local/lib/python3.11/dist-packages (from albumentations==1.4.23->autotrain-advanced) (4.11.0.86)\n",
            "Requirement already satisfied: typing_extensions>=4.8.0 in /usr/local/lib/python3.11/dist-packages (from bitsandbytes==0.45.0->autotrain-advanced) (4.13.2)\n",
            "Requirement already satisfied: cffi>=1.12 in /usr/local/lib/python3.11/dist-packages (from cryptography==44.0.0->autotrain-advanced) (1.17.1)\n",
            "Requirement already satisfied: dill in /usr/local/lib/python3.11/dist-packages (from evaluate==0.4.3->autotrain-advanced) (0.3.7)\n",
            "Requirement already satisfied: xxhash in /usr/local/lib/python3.11/dist-packages (from evaluate==0.4.3->autotrain-advanced) (3.5.0)\n",
            "Requirement already satisfied: multiprocess in /usr/local/lib/python3.11/dist-packages (from evaluate==0.4.3->autotrain-advanced) (0.70.15)\n",
            "Requirement already satisfied: fsspec>=2021.05.0 in /usr/local/lib/python3.11/dist-packages (from fsspec[http]>=2021.05.0->evaluate==0.4.3->autotrain-advanced) (2024.9.0)\n",
            "Requirement already satisfied: starlette<0.42.0,>=0.40.0 in /usr/local/lib/python3.11/dist-packages (from fastapi==0.115.6->autotrain-advanced) (0.41.3)\n",
            "Requirement already satisfied: anyio in /usr/local/lib/python3.11/dist-packages (from httpx==0.28.1->autotrain-advanced) (4.9.0)\n",
            "Requirement already satisfied: certifi in /usr/local/lib/python3.11/dist-packages (from httpx==0.28.1->autotrain-advanced) (2025.4.26)\n",
            "Requirement already satisfied: httpcore==1.* in /usr/local/lib/python3.11/dist-packages (from httpx==0.28.1->autotrain-advanced) (1.0.9)\n",
            "Requirement already satisfied: idna in /usr/local/lib/python3.11/dist-packages (from httpx==0.28.1->autotrain-advanced) (3.10)\n",
            "Requirement already satisfied: filelock in /usr/local/lib/python3.11/dist-packages (from huggingface-hub==0.27.0->autotrain-advanced) (3.18.0)\n",
            "Requirement already satisfied: click<9.0.0,>=8.1.3 in /usr/local/lib/python3.11/dist-packages (from jiwer==3.0.5->autotrain-advanced) (8.2.1)\n",
            "Requirement already satisfied: rapidfuzz<4,>=3 in /usr/local/lib/python3.11/dist-packages (from jiwer==3.0.5->autotrain-advanced) (3.13.0)\n",
            "Requirement already satisfied: regex>=2021.8.3 in /usr/local/lib/python3.11/dist-packages (from nltk==3.9.1->autotrain-advanced) (2024.11.6)\n",
            "Requirement already satisfied: nvidia-ml-py<12.536.0a0,>=11.450.51 in /usr/local/lib/python3.11/dist-packages (from nvitop==1.3.2->autotrain-advanced) (12.535.161)\n",
            "Requirement already satisfied: cachetools>=1.0.1 in /usr/local/lib/python3.11/dist-packages (from nvitop==1.3.2->autotrain-advanced) (5.5.2)\n",
            "Requirement already satisfied: termcolor>=1.0.0 in /usr/local/lib/python3.11/dist-packages (from nvitop==1.3.2->autotrain-advanced) (3.1.0)\n",
            "Requirement already satisfied: alembic>=1.5.0 in /usr/local/lib/python3.11/dist-packages (from optuna==4.1.0->autotrain-advanced) (1.16.1)\n",
            "Requirement already satisfied: colorlog in /usr/local/lib/python3.11/dist-packages (from optuna==4.1.0->autotrain-advanced) (6.9.0)\n",
            "Requirement already satisfied: sqlalchemy>=1.4.2 in /usr/local/lib/python3.11/dist-packages (from optuna==4.1.0->autotrain-advanced) (2.0.41)\n",
            "Requirement already satisfied: python-dateutil>=2.8.2 in /usr/local/lib/python3.11/dist-packages (from pandas==2.2.3->autotrain-advanced) (2.9.0.post0)\n",
            "Requirement already satisfied: pytz>=2020.1 in /usr/local/lib/python3.11/dist-packages (from pandas==2.2.3->autotrain-advanced) (2025.2)\n",
            "Requirement already satisfied: tzdata>=2022.7 in /usr/local/lib/python3.11/dist-packages (from pandas==2.2.3->autotrain-advanced) (2025.2)\n",
            "Requirement already satisfied: texttable in /usr/local/lib/python3.11/dist-packages (from py7zr==0.22.0->autotrain-advanced) (1.7.0)\n",
            "Requirement already satisfied: pycryptodomex>=3.16.0 in /usr/local/lib/python3.11/dist-packages (from py7zr==0.22.0->autotrain-advanced) (3.23.0)\n",
            "Requirement already satisfied: pyzstd>=0.15.9 in /usr/local/lib/python3.11/dist-packages (from py7zr==0.22.0->autotrain-advanced) (0.17.0)\n",
            "Requirement already satisfied: pyppmd<1.2.0,>=1.1.0 in /usr/local/lib/python3.11/dist-packages (from py7zr==0.22.0->autotrain-advanced) (1.1.1)\n",
            "Requirement already satisfied: pybcj<1.1.0,>=1.0.0 in /usr/local/lib/python3.11/dist-packages (from py7zr==0.22.0->autotrain-advanced) (1.0.6)\n",
            "Requirement already satisfied: multivolumefile>=0.2.3 in /usr/local/lib/python3.11/dist-packages (from py7zr==0.22.0->autotrain-advanced) (0.2.3)\n",
            "Requirement already satisfied: inflate64<1.1.0,>=1.0.0 in /usr/local/lib/python3.11/dist-packages (from py7zr==0.22.0->autotrain-advanced) (1.0.3)\n",
            "Requirement already satisfied: brotli>=1.1.0 in /usr/local/lib/python3.11/dist-packages (from py7zr==0.22.0->autotrain-advanced) (1.1.0)\n",
            "Requirement already satisfied: matplotlib>=2.1.0 in /usr/local/lib/python3.11/dist-packages (from pycocotools==2.0.8->autotrain-advanced) (3.10.0)\n",
            "Requirement already satisfied: annotated-types>=0.6.0 in /usr/local/lib/python3.11/dist-packages (from pydantic==2.10.4->autotrain-advanced) (0.7.0)\n",
            "Requirement already satisfied: pydantic-core==2.27.2 in /usr/local/lib/python3.11/dist-packages (from pydantic==2.10.4->autotrain-advanced) (2.27.2)\n",
            "Requirement already satisfied: charset-normalizer<4,>=2 in /usr/local/lib/python3.11/dist-packages (from requests==2.32.3->autotrain-advanced) (3.4.2)\n",
            "Requirement already satisfied: urllib3<3,>=1.21.1 in /usr/local/lib/python3.11/dist-packages (from requests==2.32.3->autotrain-advanced) (2.4.0)\n",
            "Requirement already satisfied: absl-py in /usr/local/lib/python3.11/dist-packages (from rouge-score==0.1.2->autotrain-advanced) (1.4.0)\n",
            "Requirement already satisfied: six>=1.14.0 in /usr/local/lib/python3.11/dist-packages (from rouge-score==0.1.2->autotrain-advanced) (1.17.0)\n",
            "Requirement already satisfied: threadpoolctl>=3.1.0 in /usr/local/lib/python3.11/dist-packages (from scikit-learn==1.6.0->autotrain-advanced) (3.6.0)\n",
            "Requirement already satisfied: grpcio>=1.48.2 in /usr/local/lib/python3.11/dist-packages (from tensorboard==2.18.0->autotrain-advanced) (1.71.0)\n",
            "Requirement already satisfied: markdown>=2.6.8 in /usr/local/lib/python3.11/dist-packages (from tensorboard==2.18.0->autotrain-advanced) (3.8)\n",
            "Requirement already satisfied: protobuf!=4.24.0,>=3.19.6 in /usr/local/lib/python3.11/dist-packages (from tensorboard==2.18.0->autotrain-advanced) (5.29.5)\n",
            "Requirement already satisfied: setuptools>=41.0.0 in /usr/local/lib/python3.11/dist-packages (from tensorboard==2.18.0->autotrain-advanced) (75.2.0)\n",
            "Requirement already satisfied: tensorboard-data-server<0.8.0,>=0.7.0 in /usr/local/lib/python3.11/dist-packages (from tensorboard==2.18.0->autotrain-advanced) (0.7.2)\n",
            "Requirement already satisfied: torchvision in /usr/local/lib/python3.11/dist-packages (from timm==1.0.12->autotrain-advanced) (0.21.0+cu124)\n",
            "Requirement already satisfied: lightning-utilities>=0.8.0 in /usr/local/lib/python3.11/dist-packages (from torchmetrics==1.6.0->autotrain-advanced) (0.14.3)\n",
            "Requirement already satisfied: tokenizers<0.22,>=0.21 in /usr/local/lib/python3.11/dist-packages (from transformers==4.48.0->autotrain-advanced) (0.21.1)\n",
            "Requirement already satisfied: rich in /usr/local/lib/python3.11/dist-packages (from trl==0.13.0->autotrain-advanced) (13.9.4)\n",
            "Requirement already satisfied: h11>=0.8 in /usr/local/lib/python3.11/dist-packages (from uvicorn==0.34.0->autotrain-advanced) (0.16.0)\n",
            "Requirement already satisfied: MarkupSafe>=2.1.1 in /usr/local/lib/python3.11/dist-packages (from werkzeug==3.1.3->autotrain-advanced) (3.0.2)\n",
            "Requirement already satisfied: nvidia-nccl-cu12 in /usr/local/lib/python3.11/dist-packages (from xgboost==2.1.3->autotrain-advanced) (2.21.5)\n",
            "Requirement already satisfied: stringzilla>=3.10.4 in /usr/local/lib/python3.11/dist-packages (from albucore==0.0.21->albumentations==1.4.23->autotrain-advanced) (3.12.5)\n",
            "Requirement already satisfied: simsimd>=5.9.2 in /usr/local/lib/python3.11/dist-packages (from albucore==0.0.21->albumentations==1.4.23->autotrain-advanced) (6.2.1)\n",
            "Requirement already satisfied: pyarrow>=15.0.0 in /usr/local/lib/python3.11/dist-packages (from datasets~=3.2.0->datasets[vision]~=3.2.0->autotrain-advanced) (18.1.0)\n",
            "Requirement already satisfied: aiohttp in /usr/local/lib/python3.11/dist-packages (from datasets~=3.2.0->datasets[vision]~=3.2.0->autotrain-advanced) (3.11.15)\n",
            "Requirement already satisfied: Mako in /usr/lib/python3/dist-packages (from alembic>=1.5.0->optuna==4.1.0->autotrain-advanced) (1.1.3)\n",
            "Requirement already satisfied: pycparser in /usr/local/lib/python3.11/dist-packages (from cffi>=1.12->cryptography==44.0.0->autotrain-advanced) (2.22)\n",
            "Requirement already satisfied: aiohappyeyeballs>=2.3.0 in /usr/local/lib/python3.11/dist-packages (from aiohttp->datasets~=3.2.0->datasets[vision]~=3.2.0->autotrain-advanced) (2.6.1)\n",
            "Requirement already satisfied: aiosignal>=1.1.2 in /usr/local/lib/python3.11/dist-packages (from aiohttp->datasets~=3.2.0->datasets[vision]~=3.2.0->autotrain-advanced) (1.3.2)\n",
            "Requirement already satisfied: attrs>=17.3.0 in /usr/local/lib/python3.11/dist-packages (from aiohttp->datasets~=3.2.0->datasets[vision]~=3.2.0->autotrain-advanced) (25.3.0)\n",
            "Requirement already satisfied: frozenlist>=1.1.1 in /usr/local/lib/python3.11/dist-packages (from aiohttp->datasets~=3.2.0->datasets[vision]~=3.2.0->autotrain-advanced) (1.6.0)\n",
            "Requirement already satisfied: multidict<7.0,>=4.5 in /usr/local/lib/python3.11/dist-packages (from aiohttp->datasets~=3.2.0->datasets[vision]~=3.2.0->autotrain-advanced) (6.4.4)\n",
            "Requirement already satisfied: propcache>=0.2.0 in /usr/local/lib/python3.11/dist-packages (from aiohttp->datasets~=3.2.0->datasets[vision]~=3.2.0->autotrain-advanced) (0.3.1)\n",
            "Requirement already satisfied: yarl<2.0,>=1.17.0 in /usr/local/lib/python3.11/dist-packages (from aiohttp->datasets~=3.2.0->datasets[vision]~=3.2.0->autotrain-advanced) (1.20.0)\n",
            "Requirement already satisfied: contourpy>=1.0.1 in /usr/local/lib/python3.11/dist-packages (from matplotlib>=2.1.0->pycocotools==2.0.8->autotrain-advanced) (1.3.2)\n",
            "Requirement already satisfied: cycler>=0.10 in /usr/local/lib/python3.11/dist-packages (from matplotlib>=2.1.0->pycocotools==2.0.8->autotrain-advanced) (0.12.1)\n",
            "Requirement already satisfied: fonttools>=4.22.0 in /usr/local/lib/python3.11/dist-packages (from matplotlib>=2.1.0->pycocotools==2.0.8->autotrain-advanced) (4.58.1)\n",
            "Requirement already satisfied: kiwisolver>=1.3.1 in /usr/local/lib/python3.11/dist-packages (from matplotlib>=2.1.0->pycocotools==2.0.8->autotrain-advanced) (1.4.8)\n",
            "Requirement already satisfied: pyparsing>=2.3.1 in /usr/local/lib/python3.11/dist-packages (from matplotlib>=2.1.0->pycocotools==2.0.8->autotrain-advanced) (3.2.3)\n",
            "Requirement already satisfied: greenlet>=1 in /usr/local/lib/python3.11/dist-packages (from sqlalchemy>=1.4.2->optuna==4.1.0->autotrain-advanced) (3.2.2)\n",
            "Requirement already satisfied: sniffio>=1.1 in /usr/local/lib/python3.11/dist-packages (from anyio->httpx==0.28.1->autotrain-advanced) (1.3.1)\n",
            "Requirement already satisfied: networkx in /usr/local/lib/python3.11/dist-packages (from torch>=1.10.0->accelerate==1.2.1->autotrain-advanced) (3.5)\n",
            "Requirement already satisfied: jinja2 in /usr/local/lib/python3.11/dist-packages (from torch>=1.10.0->accelerate==1.2.1->autotrain-advanced) (3.1.6)\n",
            "Requirement already satisfied: nvidia-cuda-nvrtc-cu12==12.4.127 in /usr/local/lib/python3.11/dist-packages (from torch>=1.10.0->accelerate==1.2.1->autotrain-advanced) (12.4.127)\n",
            "Requirement already satisfied: nvidia-cuda-runtime-cu12==12.4.127 in /usr/local/lib/python3.11/dist-packages (from torch>=1.10.0->accelerate==1.2.1->autotrain-advanced) (12.4.127)\n",
            "Requirement already satisfied: nvidia-cuda-cupti-cu12==12.4.127 in /usr/local/lib/python3.11/dist-packages (from torch>=1.10.0->accelerate==1.2.1->autotrain-advanced) (12.4.127)\n",
            "Requirement already satisfied: nvidia-cudnn-cu12==9.1.0.70 in /usr/local/lib/python3.11/dist-packages (from torch>=1.10.0->accelerate==1.2.1->autotrain-advanced) (9.1.0.70)\n",
            "Requirement already satisfied: nvidia-cublas-cu12==12.4.5.8 in /usr/local/lib/python3.11/dist-packages (from torch>=1.10.0->accelerate==1.2.1->autotrain-advanced) (12.4.5.8)\n",
            "Requirement already satisfied: nvidia-cufft-cu12==11.2.1.3 in /usr/local/lib/python3.11/dist-packages (from torch>=1.10.0->accelerate==1.2.1->autotrain-advanced) (11.2.1.3)\n",
            "Requirement already satisfied: nvidia-curand-cu12==10.3.5.147 in /usr/local/lib/python3.11/dist-packages (from torch>=1.10.0->accelerate==1.2.1->autotrain-advanced) (10.3.5.147)\n",
            "Requirement already satisfied: nvidia-cusolver-cu12==11.6.1.9 in /usr/local/lib/python3.11/dist-packages (from torch>=1.10.0->accelerate==1.2.1->autotrain-advanced) (11.6.1.9)\n",
            "Requirement already satisfied: nvidia-cusparse-cu12==12.3.1.170 in /usr/local/lib/python3.11/dist-packages (from torch>=1.10.0->accelerate==1.2.1->autotrain-advanced) (12.3.1.170)\n",
            "Requirement already satisfied: nvidia-cusparselt-cu12==0.6.2 in /usr/local/lib/python3.11/dist-packages (from torch>=1.10.0->accelerate==1.2.1->autotrain-advanced) (0.6.2)\n",
            "Requirement already satisfied: nvidia-nvtx-cu12==12.4.127 in /usr/local/lib/python3.11/dist-packages (from torch>=1.10.0->accelerate==1.2.1->autotrain-advanced) (12.4.127)\n",
            "Requirement already satisfied: nvidia-nvjitlink-cu12==12.4.127 in /usr/local/lib/python3.11/dist-packages (from torch>=1.10.0->accelerate==1.2.1->autotrain-advanced) (12.4.127)\n",
            "Requirement already satisfied: triton==3.2.0 in /usr/local/lib/python3.11/dist-packages (from torch>=1.10.0->accelerate==1.2.1->autotrain-advanced) (3.2.0)\n",
            "Requirement already satisfied: sympy==1.13.1 in /usr/local/lib/python3.11/dist-packages (from torch>=1.10.0->accelerate==1.2.1->autotrain-advanced) (1.13.1)\n",
            "Requirement already satisfied: mpmath<1.4,>=1.1.0 in /usr/local/lib/python3.11/dist-packages (from sympy==1.13.1->torch>=1.10.0->accelerate==1.2.1->autotrain-advanced) (1.3.0)\n",
            "Requirement already satisfied: markdown-it-py>=2.2.0 in /usr/local/lib/python3.11/dist-packages (from rich->trl==0.13.0->autotrain-advanced) (3.0.0)\n",
            "Requirement already satisfied: pygments<3.0.0,>=2.13.0 in /usr/local/lib/python3.11/dist-packages (from rich->trl==0.13.0->autotrain-advanced) (2.19.1)\n",
            "Requirement already satisfied: mdurl~=0.1 in /usr/local/lib/python3.11/dist-packages (from markdown-it-py>=2.2.0->rich->trl==0.13.0->autotrain-advanced) (0.1.2)\n"
          ]
        }
      ]
    },
    {
      "cell_type": "code",
      "execution_count": 2,
      "metadata": {
        "id": "6Axv2__1OB68"
      },
      "outputs": [],
      "source": [
        "HF_USERNAME = \"your_huggingface_username\"\n",
        "HF_TOKEN = \"your_huggingface_write_token\" # get it from https://huggingface.co/settings/token\n",
        "# It is recommended to use secrets or environment variables to store your HF_TOKEN\n",
        "# your token is required if push_to_hub is set to True or if you are accessing a gated model/dataset"
      ]
    },
    {
      "cell_type": "code",
      "execution_count": 3,
      "metadata": {
        "id": "PcwhdtsjOB68"
      },
      "outputs": [],
      "source": [
        "params = LLMTrainingParams(\n",
        "    model=\"meta-llama/Llama-3.2-1B-Instruct\",\n",
        "    data_path=\"HuggingFaceH4/no_robots\", # path to the dataset on huggingface hub\n",
        "    chat_template=\"tokenizer\", # using the chat template defined in the model's tokenizer\n",
        "    text_column=\"messages\", # the column in the dataset that contains the text\n",
        "    train_split=\"train\",\n",
        "    trainer=\"sft\", # using the SFT trainer, choose from sft, default, orpo, dpo and reward\n",
        "    epochs=3,\n",
        "    batch_size=1,\n",
        "    lr=1e-5,\n",
        "    peft=True, # training LoRA using PEFT\n",
        "    quantization=\"int4\", # using int4 quantization\n",
        "    target_modules=\"all-linear\",\n",
        "    padding=\"right\",\n",
        "    optimizer=\"paged_adamw_8bit\",\n",
        "    scheduler=\"cosine\",\n",
        "    gradient_accumulation=8,\n",
        "    mixed_precision=\"bf16\",\n",
        "    merge_adapter=True,\n",
        "    project_name=\"autotrain-llama32-1b-finetune\",\n",
        "    log=\"tensorboard\",\n",
        "    push_to_hub=True,\n",
        "    username=HF_USERNAME,\n",
        "    token=HF_TOKEN,\n",
        ")"
      ]
    },
    {
      "cell_type": "markdown",
      "metadata": {
        "id": "hM66KZSzOB69"
      },
      "source": [
        "If your dataset is in CSV / JSONL format (JSONL is most preferred) and is stored locally, make the following changes to `params`:\n",
        "\n",
        "```python\n",
        "params = LLMTrainingParams(\n",
        "    data_path=\"data/\", # this is the path to folder where train.jsonl/train.csv is located\n",
        "    text_column=\"text\", # this is the column name in the CSV/JSONL file which contains the text\n",
        "    train_split = \"train\" # this is the filename without extension\n",
        "    .\n",
        "    .\n",
        "    .\n",
        ")\n",
        "```"
      ]
    },
    {
      "cell_type": "code",
      "execution_count": 4,
      "metadata": {
        "colab": {
          "base_uri": "https://localhost:8080/"
        },
        "id": "jaC7nJX6OB69",
        "outputId": "9a930f26-fe36-4fe4-92a1-c33edaa9b895"
      },
      "outputs": [
        {
          "output_type": "stream",
          "name": "stdout",
          "text": [
            "\u001b[1mINFO    \u001b[0m | \u001b[32m2025-06-05 04:51:55\u001b[0m | \u001b[36mautotrain.backends.local\u001b[0m:\u001b[36mcreate\u001b[0m:\u001b[36m20\u001b[0m - \u001b[1mStarting local training...\u001b[0m\n",
            "\u001b[33m\u001b[1mWARNING \u001b[0m | \u001b[32m2025-06-05 04:51:55\u001b[0m | \u001b[36mautotrain.commands\u001b[0m:\u001b[36mget_accelerate_command\u001b[0m:\u001b[36m58\u001b[0m - \u001b[33m\u001b[1mNo GPU found. Forcing training on CPU. This will be super slow!\u001b[0m\n",
            "\u001b[1mINFO    \u001b[0m | \u001b[32m2025-06-05 04:51:55\u001b[0m | \u001b[36mautotrain.commands\u001b[0m:\u001b[36mlaunch_command\u001b[0m:\u001b[36m514\u001b[0m - \u001b[1m['accelerate', 'launch', '--cpu', '-m', 'autotrain.trainers.clm', '--training_config', 'autotrain-llama32-1b-finetune/training_params.json']\u001b[0m\n",
            "\u001b[1mINFO    \u001b[0m | \u001b[32m2025-06-05 04:51:55\u001b[0m | \u001b[36mautotrain.commands\u001b[0m:\u001b[36mlaunch_command\u001b[0m:\u001b[36m515\u001b[0m - \u001b[1m{'model': 'meta-llama/Llama-3.2-1B-Instruct', 'project_name': 'autotrain-llama32-1b-finetune', 'data_path': 'HuggingFaceH4/no_robots', 'train_split': 'train', 'valid_split': None, 'add_eos_token': True, 'block_size': -1, 'model_max_length': 2048, 'padding': 'right', 'trainer': 'sft', 'use_flash_attention_2': False, 'log': 'tensorboard', 'disable_gradient_checkpointing': False, 'logging_steps': -1, 'eval_strategy': 'epoch', 'save_total_limit': 1, 'auto_find_batch_size': False, 'mixed_precision': 'bf16', 'lr': 1e-05, 'epochs': 3, 'batch_size': 1, 'warmup_ratio': 0.1, 'gradient_accumulation': 8, 'optimizer': 'paged_adamw_8bit', 'scheduler': 'cosine', 'weight_decay': 0.0, 'max_grad_norm': 1.0, 'seed': 42, 'chat_template': 'tokenizer', 'quantization': 'int4', 'target_modules': 'all-linear', 'merge_adapter': True, 'peft': True, 'lora_r': 16, 'lora_alpha': 32, 'lora_dropout': 0.05, 'model_ref': None, 'dpo_beta': 0.1, 'max_prompt_length': 128, 'max_completion_length': None, 'prompt_text_column': None, 'text_column': 'messages', 'rejected_text_column': None, 'push_to_hub': True, 'username': 'your_huggingface_username', 'token': '*****', 'unsloth': False, 'distributed_backend': None}\u001b[0m\n"
          ]
        },
        {
          "output_type": "execute_result",
          "data": {
            "text/plain": [
              "16302"
            ]
          },
          "metadata": {},
          "execution_count": 4
        }
      ],
      "source": [
        "# this will train the model locally\n",
        "project = AutoTrainProject(params=params, backend=\"local\", process=True)\n",
        "project.create()"
      ]
    }
  ],
  "metadata": {
    "kernelspec": {
      "display_name": "autotrain",
      "language": "python",
      "name": "python3"
    },
    "language_info": {
      "codemirror_mode": {
        "name": "ipython",
        "version": 3
      },
      "file_extension": ".py",
      "mimetype": "text/x-python",
      "name": "python",
      "nbconvert_exporter": "python",
      "pygments_lexer": "ipython3",
      "version": "3.10.14"
    },
    "colab": {
      "provenance": []
    }
  },
  "nbformat": 4,
  "nbformat_minor": 0
}